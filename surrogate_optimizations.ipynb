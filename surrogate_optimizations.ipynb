{
  "nbformat": 4,
  "nbformat_minor": 0,
  "metadata": {
    "colab": {
      "provenance": []
    },
    "kernelspec": {
      "name": "python3",
      "display_name": "Python 3"
    },
    "language_info": {
      "name": "python"
    }
  },
  "cells": [
    {
      "cell_type": "code",
      "execution_count": 1,
      "metadata": {
        "id": "szr7GJrBleZo"
      },
      "outputs": [],
      "source": [
        "import numpy as np\n",
        "from scipy.stats import norm\n",
        "from sklearn.gaussian_process import GaussianProcessRegressor\n",
        "from sklearn.gaussian_process.kernels import Matern\n",
        "from scipy.optimize import minimize\n",
        "\n",
        "# Define the objective function (Simple function with a solution of, [4, 5, -6])\n",
        "def objective_function(params):\n",
        "    x, y, z = params[0], params[1], params[2]\n",
        "    return (x-4)**2 + (y-5)**2 + (z+6)**2\n",
        "\n",
        "# Define the bounds of the search space\n",
        "bounds = np.array([[-10, -10, -10], [10, 10, 10]])"
      ]
    },
    {
      "cell_type": "markdown",
      "source": [
        "Randomly sample a few initial points in the search space and evaluate the objective function at these points. We use a Gaussian Process model to approximate the objective function. The Matern kernel is commonly used in surrogate optimization."
      ],
      "metadata": {
        "id": "t8tq17rIl_1p"
      }
    },
    {
      "cell_type": "code",
      "source": [
        "# Randomly sample initial points\n",
        "n_initial_points = 5\n",
        "initial_points = np.random.uniform(low=bounds[0], high=bounds[1], size=(n_initial_points, 3))\n",
        "initial_values = np.array([objective_function(p) for p in initial_points])\n",
        "print(\"Initial points are: \", initial_points)\n",
        "print(\"Initial values for the objective function are: \", initial_values)"
      ],
      "metadata": {
        "colab": {
          "base_uri": "https://localhost:8080/"
        },
        "id": "2xZn6CmKly9i",
        "outputId": "21973a76-c555-441a-aa52-d3a692faa148"
      },
      "execution_count": 2,
      "outputs": [
        {
          "output_type": "stream",
          "name": "stdout",
          "text": [
            "Initial points are:  [[ 3.10955437  9.64484383  6.22746171]\n",
            " [ 8.5478657   5.86787445 -5.96362217]\n",
            " [-1.01789296  7.86261112 -6.73311921]\n",
            " [ 4.01021778 -1.20870812  8.20681189]\n",
            " [ 6.89624357 -2.98839497  5.84185984]]\n",
            "Initial values for the objective function are:  [171.87828749  21.43761186  33.91125597 240.38166504 212.43232551]\n"
          ]
        }
      ]
    },
    {
      "cell_type": "markdown",
      "source": [
        "A Gaussian Process (GP) is a powerful statistical model used for regression tasks. It is particularly well-suited for surrogate modeling in optimization because it provides a probabilistic prediction, which includes both a mean prediction and an uncertainty estimate. This property is essential for making decisions about where to sample next in the search space. In summary, it helps estimate the objective function at unobserved points.\n",
        "\n",
        "The Matern kernel is a popular choice for the covariance function (or kernel) in Gaussian Processes. It is more flexible than the Radial Basis Function (RBF) kernel because it has an additional parameter, nu, which controls the smoothness of the function. The parameter nu affects the smoothness of the predicted function: smaller values of nu lead to rougher functions, while larger values lead to smoother functions.\n",
        "nu=1.5 or nu=2.5: Commonly used values that provide a good balance between smoothness and flexibility."
      ],
      "metadata": {
        "id": "Yfcq_P69mLDj"
      }
    },
    {
      "cell_type": "code",
      "source": [
        "# Train the initial Gaussian Process model\n",
        "kernel = Matern(nu=2.5)  #Create a Matern kernel\n",
        "\n",
        "#Initialize the GP model with the specified Matern kernel and other parameters.\n",
        "gp = GaussianProcessRegressor(kernel=kernel, n_restarts_optimizer=10, alpha=1e-6)\n",
        "gp.fit(initial_points, initial_values) #Train the GP model on the initial set of points and their corresponding objective function values."
      ],
      "metadata": {
        "colab": {
          "base_uri": "https://localhost:8080/",
          "height": 92
        },
        "id": "6if5d55elzdK",
        "outputId": "a194639b-bde1-4322-db7a-9fe5e7b360d6"
      },
      "execution_count": 3,
      "outputs": [
        {
          "output_type": "execute_result",
          "data": {
            "text/plain": [
              "GaussianProcessRegressor(alpha=1e-06, kernel=Matern(length_scale=1, nu=2.5),\n",
              "                         n_restarts_optimizer=10)"
            ],
            "text/html": [
              "<style>#sk-container-id-1 {color: black;}#sk-container-id-1 pre{padding: 0;}#sk-container-id-1 div.sk-toggleable {background-color: white;}#sk-container-id-1 label.sk-toggleable__label {cursor: pointer;display: block;width: 100%;margin-bottom: 0;padding: 0.3em;box-sizing: border-box;text-align: center;}#sk-container-id-1 label.sk-toggleable__label-arrow:before {content: \"▸\";float: left;margin-right: 0.25em;color: #696969;}#sk-container-id-1 label.sk-toggleable__label-arrow:hover:before {color: black;}#sk-container-id-1 div.sk-estimator:hover label.sk-toggleable__label-arrow:before {color: black;}#sk-container-id-1 div.sk-toggleable__content {max-height: 0;max-width: 0;overflow: hidden;text-align: left;background-color: #f0f8ff;}#sk-container-id-1 div.sk-toggleable__content pre {margin: 0.2em;color: black;border-radius: 0.25em;background-color: #f0f8ff;}#sk-container-id-1 input.sk-toggleable__control:checked~div.sk-toggleable__content {max-height: 200px;max-width: 100%;overflow: auto;}#sk-container-id-1 input.sk-toggleable__control:checked~label.sk-toggleable__label-arrow:before {content: \"▾\";}#sk-container-id-1 div.sk-estimator input.sk-toggleable__control:checked~label.sk-toggleable__label {background-color: #d4ebff;}#sk-container-id-1 div.sk-label input.sk-toggleable__control:checked~label.sk-toggleable__label {background-color: #d4ebff;}#sk-container-id-1 input.sk-hidden--visually {border: 0;clip: rect(1px 1px 1px 1px);clip: rect(1px, 1px, 1px, 1px);height: 1px;margin: -1px;overflow: hidden;padding: 0;position: absolute;width: 1px;}#sk-container-id-1 div.sk-estimator {font-family: monospace;background-color: #f0f8ff;border: 1px dotted black;border-radius: 0.25em;box-sizing: border-box;margin-bottom: 0.5em;}#sk-container-id-1 div.sk-estimator:hover {background-color: #d4ebff;}#sk-container-id-1 div.sk-parallel-item::after {content: \"\";width: 100%;border-bottom: 1px solid gray;flex-grow: 1;}#sk-container-id-1 div.sk-label:hover label.sk-toggleable__label {background-color: #d4ebff;}#sk-container-id-1 div.sk-serial::before {content: \"\";position: absolute;border-left: 1px solid gray;box-sizing: border-box;top: 0;bottom: 0;left: 50%;z-index: 0;}#sk-container-id-1 div.sk-serial {display: flex;flex-direction: column;align-items: center;background-color: white;padding-right: 0.2em;padding-left: 0.2em;position: relative;}#sk-container-id-1 div.sk-item {position: relative;z-index: 1;}#sk-container-id-1 div.sk-parallel {display: flex;align-items: stretch;justify-content: center;background-color: white;position: relative;}#sk-container-id-1 div.sk-item::before, #sk-container-id-1 div.sk-parallel-item::before {content: \"\";position: absolute;border-left: 1px solid gray;box-sizing: border-box;top: 0;bottom: 0;left: 50%;z-index: -1;}#sk-container-id-1 div.sk-parallel-item {display: flex;flex-direction: column;z-index: 1;position: relative;background-color: white;}#sk-container-id-1 div.sk-parallel-item:first-child::after {align-self: flex-end;width: 50%;}#sk-container-id-1 div.sk-parallel-item:last-child::after {align-self: flex-start;width: 50%;}#sk-container-id-1 div.sk-parallel-item:only-child::after {width: 0;}#sk-container-id-1 div.sk-dashed-wrapped {border: 1px dashed gray;margin: 0 0.4em 0.5em 0.4em;box-sizing: border-box;padding-bottom: 0.4em;background-color: white;}#sk-container-id-1 div.sk-label label {font-family: monospace;font-weight: bold;display: inline-block;line-height: 1.2em;}#sk-container-id-1 div.sk-label-container {text-align: center;}#sk-container-id-1 div.sk-container {/* jupyter's `normalize.less` sets `[hidden] { display: none; }` but bootstrap.min.css set `[hidden] { display: none !important; }` so we also need the `!important` here to be able to override the default hidden behavior on the sphinx rendered scikit-learn.org. See: https://github.com/scikit-learn/scikit-learn/issues/21755 */display: inline-block !important;position: relative;}#sk-container-id-1 div.sk-text-repr-fallback {display: none;}</style><div id=\"sk-container-id-1\" class=\"sk-top-container\"><div class=\"sk-text-repr-fallback\"><pre>GaussianProcessRegressor(alpha=1e-06, kernel=Matern(length_scale=1, nu=2.5),\n",
              "                         n_restarts_optimizer=10)</pre><b>In a Jupyter environment, please rerun this cell to show the HTML representation or trust the notebook. <br />On GitHub, the HTML representation is unable to render, please try loading this page with nbviewer.org.</b></div><div class=\"sk-container\" hidden><div class=\"sk-item\"><div class=\"sk-estimator sk-toggleable\"><input class=\"sk-toggleable__control sk-hidden--visually\" id=\"sk-estimator-id-1\" type=\"checkbox\" checked><label for=\"sk-estimator-id-1\" class=\"sk-toggleable__label sk-toggleable__label-arrow\">GaussianProcessRegressor</label><div class=\"sk-toggleable__content\"><pre>GaussianProcessRegressor(alpha=1e-06, kernel=Matern(length_scale=1, nu=2.5),\n",
              "                         n_restarts_optimizer=10)</pre></div></div></div></div></div>"
            ]
          },
          "metadata": {},
          "execution_count": 3
        }
      ]
    },
    {
      "cell_type": "markdown",
      "source": [
        "The acquisition function guides the search for the next point to evaluate. We use the Expected Improvement (EI) criterion, which balances exploration and exploitation.\n",
        "\n",
        "The acquisition function's role is to guide the search for the optimal solution by determining which point in the search space should be evaluated next. The acquisition function balances exploration (searching new areas) and exploitation (refining known good areas)."
      ],
      "metadata": {
        "id": "grZr3ykEmV8A"
      }
    },
    {
      "cell_type": "code",
      "source": [
        "\n",
        "# Define the acquisition function (Expected Improvement)\n",
        "# Note that norm.cdf(Z) is the cumulative distribution function of the standard normal distribution,\n",
        "# representing the probability that the improvement will be achieved.\n",
        "# norm.pdf(Z) is the probability density function of the standard normal distribution,\n",
        "# accounting for the uncertainty in the prediction.\n",
        "# More information? https://ekamperi.github.io/machine%20learning/2021/06/11/acquisition-functions.html\n",
        "def acquisition_function(x, gp, y_min):\n",
        "    mu, sigma = gp.predict(x.reshape(1, -1), return_std=True)  # Predicted Mean (mu) and Standard Deviation (sigma)\n",
        "    with np.errstate(divide='warn'):    #  warning will be issued whenever a division by zero occurs during the execution of the code block\n",
        "        imp = y_min - mu  #improvement: If imp is positive, it indicates that the point x has the potential to improve upon the best known value.\n",
        "        Z = imp / sigma  # Standardized improvement, normalized by the standard deviation to account for the uncertainty in the prediction\n",
        "        ei = imp * norm.cdf(Z) + sigma * norm.pdf(Z) # Expected Improvement, combine the improvement and the probability of achieving that improvement.\n",
        "        ei[sigma == 0.0] = 0.0  # If sigma is zero, meaning the prediction is certain, the expected improvement is set to zero to avoid division by zero.\n",
        "    return -ei\n",
        "\n",
        "# Perform the optimization:\n",
        "# First, initialize the Gaussian Process (GP) model with some initial points and their corresponding objective function values.\n",
        "# Then, optimize by iterating for a specified number of iterations to perform:\n",
        "    # Candidate selection\n",
        "    # Evaluate the objective function\n",
        "    # Update the GP model\n",
        "n_iterations = 50\n",
        "for i in range(n_iterations):\n",
        "    # Find the next point to evaluate using multiple starting points for robustness\n",
        "    candidates = np.random.uniform(low=bounds[0], high=bounds[1], size=(10, 3))  # 10 random candidates\n",
        "\n",
        "    # optimization of the acquisition function for each candidate point in the search space\n",
        "    # and store the optimization results (minimum point and function value)  - in the res_list.\n",
        "    # To find the minimum of the objective function, let us use L-BGFS-B\n",
        "    # 'L-BFGS-B' refers to Limited-memory Broyden–Fletcher–Goldfarb–Shanno algorithm\n",
        "    # with box constraints, which is suitable for optimization problems with bounds\n",
        "    res_list = [minimize(lambda x: acquisition_function(x, gp, initial_values.min()),\n",
        "                         x0=candidate, bounds=bounds.T, method='L-BFGS-B') for candidate in candidates]\n",
        "    res = min(res_list, key=lambda x: x.fun)\n",
        "    next_point = res.x\n",
        "\n",
        "    # Evaluate the objective function at the new point\n",
        "    next_value = objective_function(next_point)\n",
        "\n",
        "    # Update the Gaussian Process model with the new point\n",
        "    initial_points = np.vstack((initial_points, next_point))\n",
        "    initial_values = np.append(initial_values, next_value)\n",
        "    gp.fit(initial_points, initial_values)\n",
        "\n",
        "    # Print the progress\n",
        "    print(f'Iteration {i+1}: Best Cost = {initial_values.min():.6f}')\n",
        "\n",
        "# Print the results\n",
        "best_index = np.argmin(initial_values)\n",
        "global_best_position = initial_points[best_index]\n",
        "global_best_cost = initial_values[best_index]\n",
        "\n",
        "print('Global Best Position:', global_best_position)\n",
        "print('Global Best Cost:', global_best_cost)\n"
      ],
      "metadata": {
        "colab": {
          "base_uri": "https://localhost:8080/"
        },
        "id": "_R1dKppglzf2",
        "outputId": "f78f7697-ae8c-43bf-86d0-3b99f1884d03"
      },
      "execution_count": 4,
      "outputs": [
        {
          "output_type": "stream",
          "name": "stdout",
          "text": [
            "Iteration 1: Best Cost = 21.437612\n",
            "Iteration 2: Best Cost = 21.437612\n",
            "Iteration 3: Best Cost = 21.437612\n"
          ]
        },
        {
          "output_type": "stream",
          "name": "stderr",
          "text": [
            "/usr/local/lib/python3.10/dist-packages/sklearn/gaussian_process/_gpr.py:663: ConvergenceWarning: lbfgs failed to converge (status=2):\n",
            "ABNORMAL_TERMINATION_IN_LNSRCH.\n",
            "\n",
            "Increase the number of iterations (max_iter) or scale the data as shown in:\n",
            "    https://scikit-learn.org/stable/modules/preprocessing.html\n",
            "  _check_optimize_result(\"lbfgs\", opt_res)\n"
          ]
        },
        {
          "output_type": "stream",
          "name": "stdout",
          "text": [
            "Iteration 4: Best Cost = 21.437612\n",
            "Iteration 5: Best Cost = 21.437612\n",
            "Iteration 6: Best Cost = 21.437612\n",
            "Iteration 7: Best Cost = 21.437612\n",
            "Iteration 8: Best Cost = 21.437612\n",
            "Iteration 9: Best Cost = 21.437612\n",
            "Iteration 10: Best Cost = 21.437612\n",
            "Iteration 11: Best Cost = 6.596614\n",
            "Iteration 12: Best Cost = 6.596614\n",
            "Iteration 13: Best Cost = 6.596614\n",
            "Iteration 14: Best Cost = 6.596614\n",
            "Iteration 15: Best Cost = 6.596614\n",
            "Iteration 16: Best Cost = 0.634342\n",
            "Iteration 17: Best Cost = 0.634342\n",
            "Iteration 18: Best Cost = 0.634342\n",
            "Iteration 19: Best Cost = 0.634342\n",
            "Iteration 20: Best Cost = 0.634342\n",
            "Iteration 21: Best Cost = 0.634342\n",
            "Iteration 22: Best Cost = 0.634342\n",
            "Iteration 23: Best Cost = 0.634342\n",
            "Iteration 24: Best Cost = 0.634342\n",
            "Iteration 25: Best Cost = 0.634342\n",
            "Iteration 26: Best Cost = 0.634342\n",
            "Iteration 27: Best Cost = 0.634342\n",
            "Iteration 28: Best Cost = 0.634342\n",
            "Iteration 29: Best Cost = 0.634342\n",
            "Iteration 30: Best Cost = 0.634342\n",
            "Iteration 31: Best Cost = 0.634342\n",
            "Iteration 32: Best Cost = 0.634342\n",
            "Iteration 33: Best Cost = 0.634342\n",
            "Iteration 34: Best Cost = 0.634342\n",
            "Iteration 35: Best Cost = 0.634342\n",
            "Iteration 36: Best Cost = 0.634342\n",
            "Iteration 37: Best Cost = 0.634342\n",
            "Iteration 38: Best Cost = 0.634342\n",
            "Iteration 39: Best Cost = 0.634342\n",
            "Iteration 40: Best Cost = 0.634342\n",
            "Iteration 41: Best Cost = 0.634342\n",
            "Iteration 42: Best Cost = 0.634342\n",
            "Iteration 43: Best Cost = 0.634342\n",
            "Iteration 44: Best Cost = 0.634342\n",
            "Iteration 45: Best Cost = 0.634342\n",
            "Iteration 46: Best Cost = 0.634342\n",
            "Iteration 47: Best Cost = 0.634342\n",
            "Iteration 48: Best Cost = 0.634342\n",
            "Iteration 49: Best Cost = 0.634342\n",
            "Iteration 50: Best Cost = 0.634342\n",
            "Global Best Position: [ 3.26870508  4.80200516 -5.75434227]\n",
            "Global Best Cost: 0.634341927951906\n"
          ]
        }
      ]
    },
    {
      "cell_type": "markdown",
      "source": [
        "understand the inner workings of the surrogate optimization, let us use a library that offers this optimization out of the box."
      ],
      "metadata": {
        "id": "stDffr4NmiYf"
      }
    },
    {
      "cell_type": "code",
      "source": [
        "!pip install scikit-optimize"
      ],
      "metadata": {
        "colab": {
          "base_uri": "https://localhost:8080/"
        },
        "id": "nCYLm1XRmQLk",
        "outputId": "1ab160b0-868c-42b7-91c2-bfddbf0edba8"
      },
      "execution_count": 5,
      "outputs": [
        {
          "output_type": "stream",
          "name": "stdout",
          "text": [
            "Collecting scikit-optimize\n",
            "  Downloading scikit_optimize-0.10.2-py2.py3-none-any.whl.metadata (9.7 kB)\n",
            "Requirement already satisfied: joblib>=0.11 in /usr/local/lib/python3.10/dist-packages (from scikit-optimize) (1.4.2)\n",
            "Collecting pyaml>=16.9 (from scikit-optimize)\n",
            "  Downloading pyaml-24.7.0-py3-none-any.whl.metadata (11 kB)\n",
            "Requirement already satisfied: numpy>=1.20.3 in /usr/local/lib/python3.10/dist-packages (from scikit-optimize) (1.26.4)\n",
            "Requirement already satisfied: scipy>=1.1.0 in /usr/local/lib/python3.10/dist-packages (from scikit-optimize) (1.13.1)\n",
            "Requirement already satisfied: scikit-learn>=1.0.0 in /usr/local/lib/python3.10/dist-packages (from scikit-optimize) (1.3.2)\n",
            "Requirement already satisfied: packaging>=21.3 in /usr/local/lib/python3.10/dist-packages (from scikit-optimize) (24.1)\n",
            "Requirement already satisfied: PyYAML in /usr/local/lib/python3.10/dist-packages (from pyaml>=16.9->scikit-optimize) (6.0.1)\n",
            "Requirement already satisfied: threadpoolctl>=2.0.0 in /usr/local/lib/python3.10/dist-packages (from scikit-learn>=1.0.0->scikit-optimize) (3.5.0)\n",
            "Downloading scikit_optimize-0.10.2-py2.py3-none-any.whl (107 kB)\n",
            "\u001b[2K   \u001b[90m━━━━━━━━━━━━━━━━━━━━━━━━━━━━━━━━━━━━━━━━\u001b[0m \u001b[32m107.8/107.8 kB\u001b[0m \u001b[31m2.7 MB/s\u001b[0m eta \u001b[36m0:00:00\u001b[0m\n",
            "\u001b[?25hDownloading pyaml-24.7.0-py3-none-any.whl (24 kB)\n",
            "Installing collected packages: pyaml, scikit-optimize\n",
            "Successfully installed pyaml-24.7.0 scikit-optimize-0.10.2\n"
          ]
        }
      ]
    },
    {
      "cell_type": "code",
      "source": [
        "from skopt import gp_minimize\n",
        "from skopt.learning import GaussianProcessRegressor\n",
        "from skopt.learning.gaussian_process.kernels import Matern\n",
        "from skopt.acquisition import gaussian_ei\n",
        "import numpy as np\n",
        "\n",
        "# Define the objective function\n",
        "def objective_function(params):\n",
        "    x, y, z = params[0], params[1], params[2]\n",
        "    return (x-4)**2 + (y-5)**2 + (z+6)**2\n",
        "\n",
        "# Define the bounds of the search space\n",
        "bounds = [(-10, 10), (-10, 10), (-10, 10)]\n",
        "\n",
        "# Define the initial points and values\n",
        "initial_points = []\n",
        "initial_values = []\n",
        "\n",
        "# Define the GP model\n",
        "kernel = Matern(nu=2.5)\n",
        "gp = GaussianProcessRegressor(kernel=kernel, alpha=1e-6)\n",
        "\n",
        "# Perform surrogate optimization using gp_minimize\n",
        "res = gp_minimize(objective_function, bounds, acq_func=\"EI\", n_calls=30, n_random_starts=10, random_state=42)\n",
        "\n",
        "# Print the results\n",
        "print('Global Best Position:', res.x)\n",
        "print('Global Best Cost:', res.fun)\n"
      ],
      "metadata": {
        "colab": {
          "base_uri": "https://localhost:8080/"
        },
        "id": "FJNtUEjKmZ9W",
        "outputId": "6faefd2c-82ea-4bfa-8d17-c32216ad7cf5"
      },
      "execution_count": 6,
      "outputs": [
        {
          "output_type": "stream",
          "name": "stderr",
          "text": [
            "/usr/local/lib/python3.10/dist-packages/skopt/optimizer/optimizer.py:517: UserWarning: The objective has been evaluated at point [4, 5, -6] before, using random point [-4, 6, 7]\n",
            "  warnings.warn(\n",
            "/usr/local/lib/python3.10/dist-packages/skopt/optimizer/optimizer.py:517: UserWarning: The objective has been evaluated at point [4, 5, -6] before, using random point [-5, -9, -4]\n",
            "  warnings.warn(\n",
            "/usr/local/lib/python3.10/dist-packages/skopt/optimizer/optimizer.py:517: UserWarning: The objective has been evaluated at point [4, 5, -6] before, using random point [-4, -5, -9]\n",
            "  warnings.warn(\n",
            "/usr/local/lib/python3.10/dist-packages/skopt/optimizer/optimizer.py:517: UserWarning: The objective has been evaluated at point [4, 5, -6] before, using random point [10, -7, -8]\n",
            "  warnings.warn(\n",
            "/usr/local/lib/python3.10/dist-packages/skopt/optimizer/optimizer.py:517: UserWarning: The objective has been evaluated at point [4, 5, -6] before, using random point [0, -7, -10]\n",
            "  warnings.warn(\n",
            "/usr/local/lib/python3.10/dist-packages/skopt/optimizer/optimizer.py:517: UserWarning: The objective has been evaluated at point [4, 5, -6] before, using random point [7, -4, 7]\n",
            "  warnings.warn(\n",
            "/usr/local/lib/python3.10/dist-packages/skopt/optimizer/optimizer.py:517: UserWarning: The objective has been evaluated at point [4, 5, -6] before, using random point [1, 4, -7]\n",
            "  warnings.warn(\n",
            "/usr/local/lib/python3.10/dist-packages/skopt/optimizer/optimizer.py:517: UserWarning: The objective has been evaluated at point [4, 5, -6] before, using random point [-5, 5, 7]\n",
            "  warnings.warn(\n",
            "/usr/local/lib/python3.10/dist-packages/skopt/optimizer/optimizer.py:517: UserWarning: The objective has been evaluated at point [4, 5, -6] before, using random point [7, -7, 10]\n",
            "  warnings.warn(\n",
            "/usr/local/lib/python3.10/dist-packages/skopt/optimizer/optimizer.py:517: UserWarning: The objective has been evaluated at point [4, 5, -6] before, using random point [-3, 8, 1]\n",
            "  warnings.warn(\n",
            "/usr/local/lib/python3.10/dist-packages/skopt/optimizer/optimizer.py:517: UserWarning: The objective has been evaluated at point [4, 5, -6] before, using random point [7, -8, 5]\n",
            "  warnings.warn(\n",
            "/usr/local/lib/python3.10/dist-packages/skopt/optimizer/optimizer.py:517: UserWarning: The objective has been evaluated at point [4, 5, -6] before, using random point [8, 9, 8]\n",
            "  warnings.warn(\n"
          ]
        },
        {
          "output_type": "stream",
          "name": "stdout",
          "text": [
            "Global Best Position: [4, 5, -6]\n",
            "Global Best Cost: 0\n"
          ]
        }
      ]
    },
    {
      "cell_type": "markdown",
      "source": [
        "Rosenbrock function, which is a commonly used benchmark function in optimization. The Rosenbrock function is defined as:\n",
        "\n",
        "f(x,y)=(a−x)2 + b(y−x2)2\n",
        "\n",
        "where a and b are constants, typically a=1 and b=100.\n",
        "\n",
        "It has a global minimum at x=a and y=a2\n",
        "\n",
        "Let us define bounds to be (-5, 5), (-5, 5) in which case a spossible solution would be x=1 and y=1.\n",
        "\n",
        "Then, change the bounds to (2, 5), (-5, 5). You should see the solution to be x=2 and y=4."
      ],
      "metadata": {
        "id": "R--1qI2Em6GC"
      }
    },
    {
      "cell_type": "code",
      "source": [
        "from skopt import gp_minimize\n",
        "from skopt.learning import GaussianProcessRegressor\n",
        "from skopt.learning.gaussian_process.kernels import Matern\n",
        "import numpy as np\n",
        "\n",
        "# Define the Rosenbrock function\n",
        "def rosenbrock(x):\n",
        "    a = 1\n",
        "    b = 100\n",
        "    return (a - x[0])**2 + b * (x[1] - x[0]**2)**2\n",
        "\n",
        "# Define the bounds of the search space\n",
        "bounds = [(2, 5), (-5, 5)]\n",
        "\n",
        "# Define the GP model\n",
        "kernel = Matern(nu=2.5)\n",
        "gp = GaussianProcessRegressor(kernel=kernel, alpha=1e-6)\n",
        "\n",
        "# Perform surrogate optimization using gp_minimize\n",
        "res = gp_minimize(rosenbrock, bounds, n_calls=30, n_random_starts=10, random_state=42)\n",
        "\n",
        "# Print the results\n",
        "print('Global Best Position:', res.x)\n",
        "print('Global Best Cost:', res.fun)\n"
      ],
      "metadata": {
        "colab": {
          "base_uri": "https://localhost:8080/"
        },
        "id": "9X9gozFQmaAD",
        "outputId": "c867f6b4-ed14-46c8-bb4c-fe239b3a1b6e"
      },
      "execution_count": 7,
      "outputs": [
        {
          "output_type": "stream",
          "name": "stderr",
          "text": [
            "/usr/local/lib/python3.10/dist-packages/skopt/optimizer/optimizer.py:517: UserWarning: The objective has been evaluated at point [2, 5] before, using random point [3, -1]\n",
            "  warnings.warn(\n",
            "/usr/local/lib/python3.10/dist-packages/skopt/optimizer/optimizer.py:517: UserWarning: The objective has been evaluated at point [2, 5] before, using random point [4, 1]\n",
            "  warnings.warn(\n",
            "/usr/local/lib/python3.10/dist-packages/skopt/optimizer/optimizer.py:517: UserWarning: The objective has been evaluated at point [2, 5] before, using random point [4, 3]\n",
            "  warnings.warn(\n",
            "/usr/local/lib/python3.10/dist-packages/skopt/optimizer/optimizer.py:517: UserWarning: The objective has been evaluated at point [2, 5] before, using random point [3, -1]\n",
            "  warnings.warn(\n",
            "/usr/local/lib/python3.10/dist-packages/skopt/optimizer/optimizer.py:517: UserWarning: The objective has been evaluated at point [2, 5] before, using random point [4, -4]\n",
            "  warnings.warn(\n",
            "/usr/local/lib/python3.10/dist-packages/skopt/optimizer/optimizer.py:517: UserWarning: The objective has been evaluated at point [2, 5] before, using random point [4, 5]\n",
            "  warnings.warn(\n",
            "/usr/local/lib/python3.10/dist-packages/skopt/optimizer/optimizer.py:517: UserWarning: The objective has been evaluated at point [2, 5] before, using random point [4, 1]\n",
            "  warnings.warn(\n",
            "/usr/local/lib/python3.10/dist-packages/skopt/optimizer/optimizer.py:517: UserWarning: The objective has been evaluated at point [2, 5] before, using random point [4, 2]\n",
            "  warnings.warn(\n",
            "/usr/local/lib/python3.10/dist-packages/skopt/optimizer/optimizer.py:517: UserWarning: The objective has been evaluated at point [2, 5] before, using random point [2, 1]\n",
            "  warnings.warn(\n",
            "/usr/local/lib/python3.10/dist-packages/skopt/optimizer/optimizer.py:517: UserWarning: The objective has been evaluated at point [2, 5] before, using random point [5, 4]\n",
            "  warnings.warn(\n",
            "/usr/local/lib/python3.10/dist-packages/skopt/optimizer/optimizer.py:517: UserWarning: The objective has been evaluated at point [2, 5] before, using random point [3, 5]\n",
            "  warnings.warn(\n",
            "/usr/local/lib/python3.10/dist-packages/skopt/optimizer/optimizer.py:517: UserWarning: The objective has been evaluated at point [2, 5] before, using random point [5, 3]\n",
            "  warnings.warn(\n",
            "/usr/local/lib/python3.10/dist-packages/skopt/optimizer/optimizer.py:517: UserWarning: The objective has been evaluated at point [2, 5] before, using random point [4, -1]\n",
            "  warnings.warn(\n",
            "/usr/local/lib/python3.10/dist-packages/skopt/optimizer/optimizer.py:517: UserWarning: The objective has been evaluated at point [2, 5] before, using random point [4, 0]\n",
            "  warnings.warn(\n"
          ]
        },
        {
          "output_type": "stream",
          "name": "stdout",
          "text": [
            "Global Best Position: [2, 4]\n",
            "Global Best Cost: 1\n"
          ]
        }
      ]
    },
    {
      "cell_type": "code",
      "source": [],
      "metadata": {
        "id": "X7UX7A6NmaCW"
      },
      "execution_count": null,
      "outputs": []
    },
    {
      "cell_type": "code",
      "source": [],
      "metadata": {
        "id": "y2nMgYh4mQOH"
      },
      "execution_count": null,
      "outputs": []
    },
    {
      "cell_type": "code",
      "source": [],
      "metadata": {
        "id": "6wXmWaeQmQQX"
      },
      "execution_count": null,
      "outputs": []
    },
    {
      "cell_type": "code",
      "source": [],
      "metadata": {
        "id": "D4yOVYkelzir"
      },
      "execution_count": null,
      "outputs": []
    }
  ]
}